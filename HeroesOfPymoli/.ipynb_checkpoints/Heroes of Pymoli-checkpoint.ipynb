{
 "cells": [
  {
   "cell_type": "markdown",
   "id": "6cd759b0",
   "metadata": {},
   "source": [
    "Heroes of Pymoli Analysis"
   ]
  },
  {
   "cell_type": "code",
   "execution_count": 14,
   "id": "f8491e0d",
   "metadata": {},
   "outputs": [
    {
     "data": {
      "text/html": [
       "<div>\n",
       "<style scoped>\n",
       "    .dataframe tbody tr th:only-of-type {\n",
       "        vertical-align: middle;\n",
       "    }\n",
       "\n",
       "    .dataframe tbody tr th {\n",
       "        vertical-align: top;\n",
       "    }\n",
       "\n",
       "    .dataframe thead th {\n",
       "        text-align: right;\n",
       "    }\n",
       "</style>\n",
       "<table border=\"1\" class=\"dataframe\">\n",
       "  <thead>\n",
       "    <tr style=\"text-align: right;\">\n",
       "      <th></th>\n",
       "      <th>Purchase ID</th>\n",
       "      <th>SN</th>\n",
       "      <th>Age</th>\n",
       "      <th>Gender</th>\n",
       "      <th>Item ID</th>\n",
       "      <th>Item Name</th>\n",
       "      <th>Price</th>\n",
       "    </tr>\n",
       "  </thead>\n",
       "  <tbody>\n",
       "    <tr>\n",
       "      <th>0</th>\n",
       "      <td>0</td>\n",
       "      <td>Lisim78</td>\n",
       "      <td>20</td>\n",
       "      <td>Male</td>\n",
       "      <td>108</td>\n",
       "      <td>Extraction, Quickblade Of Trembling Hands</td>\n",
       "      <td>3.53</td>\n",
       "    </tr>\n",
       "    <tr>\n",
       "      <th>1</th>\n",
       "      <td>1</td>\n",
       "      <td>Lisovynya38</td>\n",
       "      <td>40</td>\n",
       "      <td>Male</td>\n",
       "      <td>143</td>\n",
       "      <td>Frenzied Scimitar</td>\n",
       "      <td>1.56</td>\n",
       "    </tr>\n",
       "    <tr>\n",
       "      <th>2</th>\n",
       "      <td>2</td>\n",
       "      <td>Ithergue48</td>\n",
       "      <td>24</td>\n",
       "      <td>Male</td>\n",
       "      <td>92</td>\n",
       "      <td>Final Critic</td>\n",
       "      <td>4.88</td>\n",
       "    </tr>\n",
       "    <tr>\n",
       "      <th>3</th>\n",
       "      <td>3</td>\n",
       "      <td>Chamassasya86</td>\n",
       "      <td>24</td>\n",
       "      <td>Male</td>\n",
       "      <td>100</td>\n",
       "      <td>Blindscythe</td>\n",
       "      <td>3.27</td>\n",
       "    </tr>\n",
       "    <tr>\n",
       "      <th>4</th>\n",
       "      <td>4</td>\n",
       "      <td>Iskosia90</td>\n",
       "      <td>23</td>\n",
       "      <td>Male</td>\n",
       "      <td>131</td>\n",
       "      <td>Fury</td>\n",
       "      <td>1.44</td>\n",
       "    </tr>\n",
       "  </tbody>\n",
       "</table>\n",
       "</div>"
      ],
      "text/plain": [
       "   Purchase ID             SN  Age Gender  Item ID  \\\n",
       "0            0        Lisim78   20   Male      108   \n",
       "1            1    Lisovynya38   40   Male      143   \n",
       "2            2     Ithergue48   24   Male       92   \n",
       "3            3  Chamassasya86   24   Male      100   \n",
       "4            4      Iskosia90   23   Male      131   \n",
       "\n",
       "                                   Item Name  Price  \n",
       "0  Extraction, Quickblade Of Trembling Hands   3.53  \n",
       "1                          Frenzied Scimitar   1.56  \n",
       "2                               Final Critic   4.88  \n",
       "3                                Blindscythe   3.27  \n",
       "4                                       Fury   1.44  "
      ]
     },
     "execution_count": 14,
     "metadata": {},
     "output_type": "execute_result"
    }
   ],
   "source": [
    "#Import Pandas Library\n",
    "import pandas as pd\n",
    "\n",
    "#Reference csv file purchasedata\n",
    "csv_path = \"./purchase_data.csv\"\n",
    "\n",
    "#Read csv into panda data frame\n",
    "pymoli_purchase_df = pd.read_csv(csv_path)\n",
    "pymoli_purchase_df.head()"
   ]
  },
  {
   "cell_type": "markdown",
   "id": "9a9cbe07",
   "metadata": {},
   "source": [
    "Total Number of Players"
   ]
  },
  {
   "cell_type": "code",
   "execution_count": 15,
   "id": "b38e5c3b",
   "metadata": {},
   "outputs": [
    {
     "data": {
      "text/plain": [
       "576"
      ]
     },
     "execution_count": 15,
     "metadata": {},
     "output_type": "execute_result"
    }
   ],
   "source": [
    "#Find the total number of players\n",
    "player_count = len(pymoli_purchase_df[\"SN\"].unique())\n",
    "player_count"
   ]
  },
  {
   "cell_type": "raw",
   "id": "49abb3e2",
   "metadata": {},
   "source": [
    "Purchasing Analysis Summery Table"
   ]
  },
  {
   "cell_type": "code",
   "execution_count": 39,
   "id": "a757fb2b",
   "metadata": {},
   "outputs": [
    {
     "data": {
      "text/html": [
       "<div>\n",
       "<style scoped>\n",
       "    .dataframe tbody tr th:only-of-type {\n",
       "        vertical-align: middle;\n",
       "    }\n",
       "\n",
       "    .dataframe tbody tr th {\n",
       "        vertical-align: top;\n",
       "    }\n",
       "\n",
       "    .dataframe thead th {\n",
       "        text-align: right;\n",
       "    }\n",
       "</style>\n",
       "<table border=\"1\" class=\"dataframe\">\n",
       "  <thead>\n",
       "    <tr style=\"text-align: right;\">\n",
       "      <th></th>\n",
       "      <th>Number of Unique Items</th>\n",
       "      <th>Average Purchase Price</th>\n",
       "      <th>Total Number of Purchases</th>\n",
       "      <th>Total Revenue</th>\n",
       "    </tr>\n",
       "  </thead>\n",
       "  <tbody>\n",
       "    <tr>\n",
       "      <th>0</th>\n",
       "      <td>179</td>\n",
       "      <td>$3.05</td>\n",
       "      <td>780</td>\n",
       "      <td>$2,379.77</td>\n",
       "    </tr>\n",
       "  </tbody>\n",
       "</table>\n",
       "</div>"
      ],
      "text/plain": [
       "   Number of Unique Items Average Purchase Price  Total Number of Purchases  \\\n",
       "0                     179                  $3.05                        780   \n",
       "\n",
       "  Total Revenue  \n",
       "0     $2,379.77  "
      ]
     },
     "execution_count": 39,
     "metadata": {},
     "output_type": "execute_result"
    }
   ],
   "source": [
    "#Create a table for Purchasing Analysis by finding the number of unique items, \n",
    "##average purchase price, total number of purchases, and total revenue\n",
    "\n",
    "#Find number of unique items\n",
    "unique_item_count = len(pymoli_purchase_df[\"Item ID\"].unique())\n",
    "unique_item_count\n",
    "\n",
    "#Find the Average Purchase Price\n",
    "avg_purchase_price = \"${:.2f}\".format(pymoli_purchase_df[\"Price\"].mean())\n",
    "avg_purchase_price\n",
    "\n",
    "#Find Total Number of Purchases\n",
    "total_purchases = pymoli_purchase_df[\"Purchase ID\"].count()\n",
    "total_purchases\n",
    "\n",
    "#Find the Total Revenue\n",
    "total_revenue = \"${0:,.2f}\".format(pymoli_purchase_df[\"Price\"].sum())\n",
    "total_revenue\n",
    "\n",
    "#Create a summary table\n",
    "#columns = [\"Number of Unique Items\", \"Average Purchase Price\", \"Total Number of Purchases\", \"Total Revenue\"]\n",
    "purchasing_analysis_df = pd.DataFrame({\"Number of Unique Items\": [unique_item_count],\n",
    "                              \"Average Purchase Price\": [avg_purchase_price],\n",
    "                              \"Total Number of Purchases\": [total_purchases],\n",
    "                              \"Total Revenue\": [total_revenue]})\n",
    "purchasing_analysis_df"
   ]
  },
  {
   "cell_type": "markdown",
   "id": "75a23c0f",
   "metadata": {},
   "source": [
    "Gender Demographics Table"
   ]
  },
  {
   "cell_type": "code",
   "execution_count": 55,
   "id": "d762517c",
   "metadata": {},
   "outputs": [
    {
     "data": {
      "text/html": [
       "<div>\n",
       "<style scoped>\n",
       "    .dataframe tbody tr th:only-of-type {\n",
       "        vertical-align: middle;\n",
       "    }\n",
       "\n",
       "    .dataframe tbody tr th {\n",
       "        vertical-align: top;\n",
       "    }\n",
       "\n",
       "    .dataframe thead th {\n",
       "        text-align: right;\n",
       "    }\n",
       "</style>\n",
       "<table border=\"1\" class=\"dataframe\">\n",
       "  <thead>\n",
       "    <tr style=\"text-align: right;\">\n",
       "      <th></th>\n",
       "      <th>Total Count</th>\n",
       "      <th>Percentage of Players</th>\n",
       "    </tr>\n",
       "  </thead>\n",
       "  <tbody>\n",
       "    <tr>\n",
       "      <th>Male</th>\n",
       "      <td>484</td>\n",
       "      <td>84.03%</td>\n",
       "    </tr>\n",
       "    <tr>\n",
       "      <th>Female</th>\n",
       "      <td>81</td>\n",
       "      <td>14.06%</td>\n",
       "    </tr>\n",
       "    <tr>\n",
       "      <th>Other / Non-Disclosed</th>\n",
       "      <td>11</td>\n",
       "      <td>1.91%</td>\n",
       "    </tr>\n",
       "  </tbody>\n",
       "</table>\n",
       "</div>"
      ],
      "text/plain": [
       "                       Total Count Percentage of Players\n",
       "Male                           484                84.03%\n",
       "Female                          81                14.06%\n",
       "Other / Non-Disclosed           11                 1.91%"
      ]
     },
     "execution_count": 55,
     "metadata": {},
     "output_type": "execute_result"
    }
   ],
   "source": [
    "#Find the count and percentage of male, female and Other/non-disclosed players\n",
    "\n",
    "#Find the count and percentage of male players\n",
    "male_df = pymoli_purchase_df[pymoli_purchase_df[\"Gender\"] == \"Male\"]\n",
    "male_count = len(male_df[\"SN\"].unique())\n",
    "male_count\n",
    "male_percentage = \"{:.2%}\".format(male_count/player_count)\n",
    "male_percentage\n",
    "\n",
    "#Find the count and percentage of male players\n",
    "female_df = pymoli_purchase_df[pymoli_purchase_df[\"Gender\"] == \"Female\"]\n",
    "female_count = len(female_df[\"SN\"].unique())\n",
    "female_count\n",
    "female_percentage = \"{:.2%}\".format(female_count/player_count)\n",
    "female_percentage\n",
    "\n",
    "#Find the count and percentage of other/non-disclosed players\n",
    "other_df = pymoli_purchase_df[pymoli_purchase_df[\"Gender\"] == \"Other / Non-Disclosed\"]\n",
    "other_count = len(other_df[\"SN\"].unique())\n",
    "other_count\n",
    "other_percentage = \"{:.2%}\".format(other_count/player_count)\n",
    "other_percentage\n",
    "\n",
    "#Create a summary table based on gender\n",
    "gender_analysis_df = pd.DataFrame({\n",
    "                              \"Total Count\": [male_count, female_count, other_count],\n",
    "                              \"Percentage of Players\": [male_percentage, female_percentage, other_percentage]},\n",
    "                                index = [\"Male\", \"Female\", \"Other / Non-Disclosed\"])\n",
    "gender_analysis_df"
   ]
  },
  {
   "cell_type": "markdown",
   "id": "0aa26380",
   "metadata": {},
   "source": [
    "Purchasing Analysis by Gender"
   ]
  },
  {
   "cell_type": "code",
   "execution_count": null,
   "id": "261d0900",
   "metadata": {},
   "outputs": [],
   "source": [
    "#Find purchasing trends by each gender category for purchase count, average purchase price,\n",
    "##total purchase value, and average purchase total per gender\n",
    "\n",
    "#"
   ]
  }
 ],
 "metadata": {
  "kernelspec": {
   "display_name": "Python 3",
   "language": "python",
   "name": "python3"
  },
  "language_info": {
   "codemirror_mode": {
    "name": "ipython",
    "version": 3
   },
   "file_extension": ".py",
   "mimetype": "text/x-python",
   "name": "python",
   "nbconvert_exporter": "python",
   "pygments_lexer": "ipython3",
   "version": "3.8.8"
  }
 },
 "nbformat": 4,
 "nbformat_minor": 5
}
